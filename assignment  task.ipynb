{
 "cells": [
  {
   "cell_type": "code",
   "execution_count": 3,
   "metadata": {},
   "outputs": [
    {
     "name": "stdout",
     "output_type": "stream",
     "text": [
      "enter your string: good\n",
      "god\n"
     ]
    }
   ],
   "source": [
    "#Task 1 = Remove duplicates from the string\n",
    "str = input(\"enter your string: \")\n",
    "l = []\n",
    "for ch in str:\n",
    "    if ch not in l:\n",
    "        l.append(ch)\n",
    "        output = ''.join(l)\n",
    "print(output)"
   ]
  },
  {
   "cell_type": "code",
   "execution_count": 34,
   "metadata": {},
   "outputs": [
    {
     "name": "stdout",
     "output_type": "stream",
     "text": [
      "enter a value:16\n",
      "2.0\n"
     ]
    }
   ],
   "source": [
    "#square root of a number\n",
    "def squareRoot():\n",
    "    x = int(input(\"enter a value:\"))\n",
    "    return (x**(1/4))\n",
    "print(squareRoot())"
   ]
  },
  {
   "cell_type": "code",
   "execution_count": 35,
   "metadata": {},
   "outputs": [
    {
     "name": "stdout",
     "output_type": "stream",
     "text": [
      "[6, 5, 4, 3, 1]\n"
     ]
    }
   ],
   "source": [
    "#reverse the list\n",
    "list = [1,3,4,5,6]\n",
    "l = []\n",
    "l = list[::-1]\n",
    "print(l)\n"
   ]
  },
  {
   "cell_type": "code",
   "execution_count": 1,
   "metadata": {},
   "outputs": [
    {
     "name": "stdout",
     "output_type": "stream",
     "text": [
      "enter first number:22\n",
      "enter second number:23\n",
      "enter third number:24\n",
      "The largest of 3 numbers is : 24\n",
      "The smallest of the 3 numbers is :  22\n"
     ]
    }
   ],
   "source": [
    "#finding largest and smallest number\n",
    "number1 = int(input(\"enter first number:\" ))\n",
    "number2 = int(input(\"enter second number:\" ))\n",
    "number3 = int(input(\"enter third number:\" ))\n",
    "def largest(num1,num2,num3):\n",
    "    if (num1 > num2) and (num1 > num3):\n",
    "        largest_num = num1\n",
    "    elif (num2 > num1) and (num2 > num3):\n",
    "        largest_num = num2\n",
    "    else:\n",
    "        largest_num = num3\n",
    "    print(\"The largest of 3 numbers is :\",largest_num)\n",
    "    \n",
    "def smallest(num1, num2, num3):\n",
    "    if (num1 < num2) and (num1 < num3):\n",
    "        smallest_num = num1\n",
    "    elif (num2 < num1) and (num2 < num3):\n",
    "        smallest_num = num2\n",
    "    else:\n",
    "        smallest_num = num3\n",
    "    print(\"The smallest of the 3 numbers is : \", smallest_num)\n",
    "largest(number1, number2, number3)\n",
    "smallest(number1,number2,number3)"
   ]
  },
  {
   "cell_type": "code",
   "execution_count": null,
   "metadata": {},
   "outputs": [],
   "source": []
  }
 ],
 "metadata": {
  "kernelspec": {
   "display_name": "Python 3",
   "language": "python",
   "name": "python3"
  },
  "language_info": {
   "codemirror_mode": {
    "name": "ipython",
    "version": 3
   },
   "file_extension": ".py",
   "mimetype": "text/x-python",
   "name": "python",
   "nbconvert_exporter": "python",
   "pygments_lexer": "ipython3",
   "version": "3.8.3"
  }
 },
 "nbformat": 4,
 "nbformat_minor": 4
}
