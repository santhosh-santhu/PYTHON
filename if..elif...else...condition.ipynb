{
 "cells": [
  {
   "cell_type": "markdown",
   "metadata": {},
   "source": [
    "IF CONDITION"
   ]
  },
  {
   "cell_type": "code",
   "execution_count": null,
   "metadata": {},
   "outputs": [],
   "source": [
    "\"\"\"\n",
    "syntax of if\n",
    "\n",
    "if(condition/s):\n",
    "    statement1\n",
    "    statement2\n",
    "    ..........\n",
    "\"\"\""
   ]
  },
  {
   "cell_type": "code",
   "execution_count": 7,
   "metadata": {},
   "outputs": [
    {
     "name": "stdout",
     "output_type": "stream",
     "text": [
      "Both Numbers are same\n"
     ]
    }
   ],
   "source": [
    "# example 1\n",
    "num1 = 20\n",
    "num2 = 20\n",
    "if (num1 == num2):\n",
    "    print(\"Both Numbers are same\")"
   ]
  },
  {
   "cell_type": "code",
   "execution_count": 10,
   "metadata": {},
   "outputs": [
    {
     "name": "stdout",
     "output_type": "stream",
     "text": [
      "Both Numbers are diff\n"
     ]
    }
   ],
   "source": [
    "#eample 2\n",
    "num1 = 20\n",
    "num2 = 30\n",
    "if (num1 != num2 ):\n",
    "    print(\"Both Numbers are diff\")"
   ]
  },
  {
   "cell_type": "code",
   "execution_count": 21,
   "metadata": {},
   "outputs": [
    {
     "name": "stdout",
     "output_type": "stream",
     "text": [
      "It Is true\n"
     ]
    }
   ],
   "source": [
    "#example \n",
    "num1 = 35\n",
    "num2 = 30\n",
    "if (num1 > num2):\n",
    "    print(\"It Is true\")"
   ]
  },
  {
   "cell_type": "markdown",
   "metadata": {},
   "source": [
    "Identation\n",
    "\n",
    "white space at begging of a line"
   ]
  },
  {
   "cell_type": "code",
   "execution_count": 12,
   "metadata": {},
   "outputs": [
    {
     "ename": "IndentationError",
     "evalue": "expected an indented block (<ipython-input-12-9d677678f36d>, line 2)",
     "output_type": "error",
     "traceback": [
      "\u001b[1;36m  File \u001b[1;32m\"<ipython-input-12-9d677678f36d>\"\u001b[1;36m, line \u001b[1;32m2\u001b[0m\n\u001b[1;33m    print(\"True\")\u001b[0m\n\u001b[1;37m    ^\u001b[0m\n\u001b[1;31mIndentationError\u001b[0m\u001b[1;31m:\u001b[0m expected an indented block\n"
     ]
    }
   ],
   "source": [
    "if (4 > 2):\n",
    "print(\"True\")"
   ]
  },
  {
   "cell_type": "code",
   "execution_count": 17,
   "metadata": {},
   "outputs": [
    {
     "ename": "IndentationError",
     "evalue": "unexpected indent (<ipython-input-17-8ab88c1455ca>, line 5)",
     "output_type": "error",
     "traceback": [
      "\u001b[1;36m  File \u001b[1;32m\"<ipython-input-17-8ab88c1455ca>\"\u001b[1;36m, line \u001b[1;32m5\u001b[0m\n\u001b[1;33m    print(\"It Is True\")\u001b[0m\n\u001b[1;37m    ^\u001b[0m\n\u001b[1;31mIndentationError\u001b[0m\u001b[1;31m:\u001b[0m unexpected indent\n"
     ]
    }
   ],
   "source": [
    "num1 = 20\n",
    "num2 = 30\n",
    "if(num1 > num2):\n",
    "    print(\"It Is True\")\n",
    "     print(\"It Is True\")"
   ]
  },
  {
   "cell_type": "code",
   "execution_count": 19,
   "metadata": {},
   "outputs": [
    {
     "name": "stdout",
     "output_type": "stream",
     "text": [
      "a\n",
      "b\n",
      "c\n"
     ]
    }
   ],
   "source": [
    "num1 = 20\n",
    "num2 = 20\n",
    "if (num1 == num2):\n",
    "    print(\"a\")#valid\n",
    "    print(\"b\")#valid\n",
    "    print(\"c\")#valid"
   ]
  },
  {
   "cell_type": "markdown",
   "metadata": {},
   "source": [
    "if.. else.."
   ]
  },
  {
   "cell_type": "code",
   "execution_count": null,
   "metadata": {},
   "outputs": [],
   "source": [
    "\n",
    "\"\"\"\n",
    "syntax of if else\n",
    "\n",
    "if(condition/s):\n",
    "    statement1\n",
    "    statement2\n",
    "    ..........\n",
    "else:\n",
    "    statement1\n",
    "    statement2\n",
    "    ..........\n",
    "\"\"\""
   ]
  },
  {
   "cell_type": "code",
   "execution_count": 23,
   "metadata": {},
   "outputs": [
    {
     "name": "stdout",
     "output_type": "stream",
     "text": [
      "It Is True\n"
     ]
    }
   ],
   "source": [
    "#example\n",
    "num1 = 20\n",
    "num2 = 30\n",
    "if(num1 < num2):\n",
    "    print(\"It Is True\")\n",
    "else:\n",
    "    print(\"It Is False\")"
   ]
  },
  {
   "cell_type": "code",
   "execution_count": 27,
   "metadata": {},
   "outputs": [
    {
     "name": "stdout",
     "output_type": "stream",
     "text": [
      "num1 is greater than num2 \n"
     ]
    }
   ],
   "source": [
    "#example\n",
    "num1 = 25\n",
    "num2 = 30\n",
    "if(num1 < num2 ):\n",
    "    print(\"num1 is greater than num2 \")\n",
    "else:\n",
    "    print(\"num1 is less than num2 \")"
   ]
  },
  {
   "cell_type": "markdown",
   "metadata": {},
   "source": [
    "if..elif..else.."
   ]
  },
  {
   "cell_type": "code",
   "execution_count": null,
   "metadata": {},
   "outputs": [],
   "source": [
    "\"\"\"\n",
    "syntax of if else\n",
    "\n",
    "if(condition/s):\n",
    "    statement1\n",
    "    statement2\n",
    "    ..........\n",
    "elif(condition/s):\n",
    "    statement1\n",
    "    statement2\n",
    "    ..........\n",
    "else:\n",
    "    statement1\n",
    "    statement2\n",
    "    ..........\n",
    "\"\"\""
   ]
  },
  {
   "cell_type": "code",
   "execution_count": 32,
   "metadata": {},
   "outputs": [
    {
     "name": "stdout",
     "output_type": "stream",
     "text": [
      "num1 is greater than num2\n"
     ]
    }
   ],
   "source": [
    "#example\n",
    "num1 = 30\n",
    "num2 = 10\n",
    "\n",
    "if (num1 > num2):\n",
    "    print(\"num1 is greater than num2\")\n",
    "elif (num1 < num2):\n",
    "    print(\"num1 is less than num2\")\n",
    "else:\n",
    "    print(\"num1 is equal to num2\")\n",
    "    "
   ]
  },
  {
   "cell_type": "code",
   "execution_count": null,
   "metadata": {},
   "outputs": [],
   "source": [
    "Multiple Conditions\n",
    "by using or & and operator"
   ]
  },
  {
   "cell_type": "code",
   "execution_count": 33,
   "metadata": {},
   "outputs": [
    {
     "name": "stdout",
     "output_type": "stream",
     "text": [
      "Satisfied\n"
     ]
    }
   ],
   "source": [
    "#ex1\n",
    "num1 = 7\n",
    "# it should be positive\n",
    "# or it should be divisible by 2\n",
    "# or it should be divisible by 3\n",
    "\n",
    "if(num1 > 0 or num1%2 ==0 or num1%3 ==0):\n",
    "    print(\"Satisfied\")\n",
    "else:\n",
    "    print(\"Unsatisfed\")"
   ]
  },
  {
   "cell_type": "code",
   "execution_count": 34,
   "metadata": {},
   "outputs": [
    {
     "name": "stdout",
     "output_type": "stream",
     "text": [
      "Satisfied\n"
     ]
    }
   ],
   "source": [
    "#ex2 and\n",
    "num1 = 6\n",
    "if(num1>0 and num1%2 == 0 and num1%3 == 0):\n",
    "    print(\"Satisfied\")\n",
    "else:\n",
    "    print(\"Not satisfied\")"
   ]
  },
  {
   "cell_type": "markdown",
   "metadata": {},
   "source": [
    "Nested if else"
   ]
  },
  {
   "cell_type": "code",
   "execution_count": 35,
   "metadata": {},
   "outputs": [
    {
     "name": "stdout",
     "output_type": "stream",
     "text": [
      "positive number\n",
      "Divisible by 3\n"
     ]
    }
   ],
   "source": [
    "#Ex1)\n",
    "num1 = 3\n",
    "if(num1>0):\n",
    "    print(\"positive number\")\n",
    "    if(num1%2 == 0):\n",
    "        print(\"Divisible by 2\")\n",
    "    elif(num1%3 == 0):\n",
    "        print(\"Divisible by 3\")\n",
    "    else:\n",
    "        print(\"Not divisible by 2 or 3\")\n",
    "else:\n",
    "    print(\"negative number\")"
   ]
  },
  {
   "cell_type": "code",
   "execution_count": null,
   "metadata": {},
   "outputs": [],
   "source": []
  }
 ],
 "metadata": {
  "kernelspec": {
   "display_name": "Python 3",
   "language": "python",
   "name": "python3"
  },
  "language_info": {
   "codemirror_mode": {
    "name": "ipython",
    "version": 3
   },
   "file_extension": ".py",
   "mimetype": "text/x-python",
   "name": "python",
   "nbconvert_exporter": "python",
   "pygments_lexer": "ipython3",
   "version": "3.8.3"
  }
 },
 "nbformat": 4,
 "nbformat_minor": 4
}
