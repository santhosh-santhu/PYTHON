{
 "cells": [
  {
   "cell_type": "code",
   "execution_count": 31,
   "metadata": {},
   "outputs": [
    {
     "name": "stdout",
     "output_type": "stream",
     "text": [
      "Enter First Number: 44\n",
      "Enter Second Number: 88\n",
      "Enter which operation would you like to perform?\n",
      "Enter any of the numbers 1,2,3,4: 3\n",
      "its a multiplication\n"
     ]
    }
   ],
   "source": [
    "#Task9\n",
    "#Ask 2 numbers from users and store it in num1 and num2\n",
    "#Ask user to press 1 for addition,2 for subtraction,3 for multiplication and 4 for division\n",
    "#based on number given by user do the math operation\n",
    "\n",
    "\n",
    "num1 = int(input(\"Enter First Number: \"))\n",
    "num2 = int(input(\"Enter Second Number: \"))\n",
    "\n",
    "print(\"Enter which operation would you like to perform?\")\n",
    "ch = input(\"Enter any of the numbers 1,2,3,4: \")\n",
    "\n",
    "if ch == '1':\n",
    "    result = num1 + num2\n",
    "    print(\"its a addition\")\n",
    "elif ch == '2':\n",
    "    result = num1 - num2\n",
    "    print(\"its a substraction\")\n",
    "elif ch == '3':\n",
    "    result = num1 * num2\n",
    "    print(\"its a multiplication\")\n",
    "elif ch == '4':\n",
    "    result = num1 / num2\n",
    "    print(\"its a division\")\n",
    "else:\n",
    "    print(\"none of the above\")\n"
   ]
  },
  {
   "cell_type": "code",
   "execution_count": null,
   "metadata": {},
   "outputs": [],
   "source": []
  },
  {
   "cell_type": "markdown",
   "metadata": {},
   "source": [
    " "
   ]
  },
  {
   "cell_type": "code",
   "execution_count": null,
   "metadata": {},
   "outputs": [],
   "source": []
  }
 ],
 "metadata": {
  "kernelspec": {
   "display_name": "Python 3",
   "language": "python",
   "name": "python3"
  },
  "language_info": {
   "codemirror_mode": {
    "name": "ipython",
    "version": 3
   },
   "file_extension": ".py",
   "mimetype": "text/x-python",
   "name": "python",
   "nbconvert_exporter": "python",
   "pygments_lexer": "ipython3",
   "version": "3.8.3"
  }
 },
 "nbformat": 4,
 "nbformat_minor": 4
}
