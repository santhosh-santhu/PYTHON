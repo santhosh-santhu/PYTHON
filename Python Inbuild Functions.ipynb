{
 "cells": [
  {
   "cell_type": "code",
   "execution_count": 33,
   "metadata": {},
   "outputs": [
    {
     "name": "stdout",
     "output_type": "stream",
     "text": [
      "hello\n"
     ]
    }
   ],
   "source": [
    "#task1\n",
    "# basic inbulid functions in python\n",
    "a = \"hello\"\n",
    "print(a)"
   ]
  },
  {
   "cell_type": "code",
   "execution_count": 1,
   "metadata": {},
   "outputs": [
    {
     "name": "stdout",
     "output_type": "stream",
     "text": [
      "5\n"
     ]
    }
   ],
   "source": [
    "# here len function is used for find len of a given string\n",
    "a = \"hello\"\n",
    "print(len(a))"
   ]
  },
  {
   "cell_type": "code",
   "execution_count": 14,
   "metadata": {},
   "outputs": [
    {
     "name": "stdout",
     "output_type": "stream",
     "text": [
      "My name is santhosh\n"
     ]
    }
   ],
   "source": [
    "# it will capitalize first element\n",
    "a = \"my Name is santhosh\"\n",
    "print(a.capitalize())"
   ]
  },
  {
   "cell_type": "code",
   "execution_count": 20,
   "metadata": {},
   "outputs": [
    {
     "name": "stdout",
     "output_type": "stream",
     "text": [
      "False\n"
     ]
    }
   ],
   "source": [
    "# if the given string is upper or lose case\n",
    "# here the given string is lower case the o/p is flase\n",
    "a = \"iam from telagana\"\n",
    "print(a.isupper())"
   ]
  },
  {
   "cell_type": "code",
   "execution_count": 23,
   "metadata": {},
   "outputs": [
    {
     "name": "stdout",
     "output_type": "stream",
     "text": [
      "True\n"
     ]
    }
   ],
   "source": [
    "# here the given string is uppercase the o/p is true\n",
    "a = \"IAM PARSUING MCA\"\n",
    "print(a.isupper())"
   ]
  },
  {
   "cell_type": "code",
   "execution_count": 24,
   "metadata": {},
   "outputs": [
    {
     "name": "stdout",
     "output_type": "stream",
     "text": [
      "True\n"
     ]
    }
   ],
   "source": [
    "# here the given string is lowercase the o/p is true\n",
    "a = \"basics of python\"\n",
    "print(a.islower())"
   ]
  },
  {
   "cell_type": "code",
   "execution_count": 43,
   "metadata": {},
   "outputs": [
    {
     "name": "stdout",
     "output_type": "stream",
     "text": [
      "<class 'str'>\n"
     ]
    }
   ],
   "source": [
    "# this function is used to check the which data type is\n",
    "a = \"hello world\"\n",
    "print(type(a))"
   ]
  },
  {
   "cell_type": "code",
   "execution_count": 46,
   "metadata": {},
   "outputs": [
    {
     "name": "stdout",
     "output_type": "stream",
     "text": [
      "HELLO!\n"
     ]
    }
   ],
   "source": [
    "# this function is used for making lower case to uppercase\n",
    "a = \"hello!\"\n",
    "print(a.upper())"
   ]
  },
  {
   "cell_type": "code",
   "execution_count": 47,
   "metadata": {},
   "outputs": [
    {
     "name": "stdout",
     "output_type": "stream",
     "text": [
      "hello!\n"
     ]
    }
   ],
   "source": [
    "# this function is used for makig upper case to lowercase\n",
    "a = \"HELLO!\"\n",
    "print(a.lower())"
   ]
  },
  {
   "cell_type": "code",
   "execution_count": null,
   "metadata": {},
   "outputs": [],
   "source": []
  },
  {
   "cell_type": "code",
   "execution_count": 20,
   "metadata": {},
   "outputs": [
    {
     "name": "stdout",
     "output_type": "stream",
     "text": [
      "enter your name santhosh\n",
      "santhosh\n"
     ]
    }
   ],
   "source": [
    "# here we are using a input function which stores in a vaiable \n",
    "a = input(\"enter your name \")\n",
    "print(a)"
   ]
  },
  {
   "cell_type": "code",
   "execution_count": 29,
   "metadata": {},
   "outputs": [
    {
     "name": "stdout",
     "output_type": "stream",
     "text": [
      "11\n",
      "True\n",
      "False\n",
      "HELLO WORLD\n",
      "hello world\n",
      "False\n",
      "Hello world\n",
      "3\n",
      "True\n",
      "False\n",
      "6\n",
      "False\n",
      "False\n",
      "4\n",
      "['hello', 'world']\n"
     ]
    }
   ],
   "source": [
    "# here some of the basic inbulid function in python\n",
    "str = \"hello world\"\n",
    "#here it prints len of string\n",
    "print(len(str))\n",
    "print(str.islower())\n",
    "print(str.isupper())\n",
    "print(str.upper())\n",
    "print(str.lower())\n",
    "# here it prints wherther it is number or alphabets the o/p is flase are true\n",
    "print(str.isalnum())\n",
    "# it will capitalize all elements all elements in the given string\n",
    "print(str.capitalize())\n",
    "# the count function gives index value of a particular element \n",
    "print(str.count(\"l\"))\n",
    "# the given string startswith h the o/p is true or else flase\n",
    "print(str.startswith(\"h\"))\n",
    "# the given string endswith e the o/p is flase or else true\n",
    "print(str.endswith(\"e\"))\n",
    "# here the find function is used for finding index value of a string\n",
    "print(str.find(\"w\"))\n",
    "# here the function is alphabet are not\n",
    "print(str.isalpha())\n",
    "print(str.isdigit())\n",
    "# it gives the index of paticular element\n",
    "print(str.index(\"o\"))\n",
    "#it will split the elements in string\n",
    "print(str.split())"
   ]
  },
  {
   "cell_type": "code",
   "execution_count": null,
   "metadata": {},
   "outputs": [],
   "source": [
    "\n"
   ]
  },
  {
   "cell_type": "code",
   "execution_count": 50,
   "metadata": {},
   "outputs": [
    {
     "name": "stdout",
     "output_type": "stream",
     "text": [
      "the string \"to\" found at index number : 8\n"
     ]
    }
   ],
   "source": [
    "#task2\n",
    "#check if \"to\" is present in given string or not\n",
    "str1 = \"welcome to python\"\n",
    "x = str1.find(\"to\")\n",
    "print('the string \"to\" found at index number :', +x)"
   ]
  },
  {
   "cell_type": "code",
   "execution_count": null,
   "metadata": {},
   "outputs": [],
   "source": []
  },
  {
   "cell_type": "code",
   "execution_count": null,
   "metadata": {},
   "outputs": [],
   "source": []
  },
  {
   "cell_type": "code",
   "execution_count": null,
   "metadata": {},
   "outputs": [],
   "source": []
  },
  {
   "cell_type": "code",
   "execution_count": null,
   "metadata": {},
   "outputs": [],
   "source": []
  },
  {
   "cell_type": "code",
   "execution_count": null,
   "metadata": {},
   "outputs": [],
   "source": []
  },
  {
   "cell_type": "code",
   "execution_count": null,
   "metadata": {},
   "outputs": [],
   "source": []
  },
  {
   "cell_type": "code",
   "execution_count": null,
   "metadata": {},
   "outputs": [],
   "source": []
  }
 ],
 "metadata": {
  "kernelspec": {
   "display_name": "Python 3",
   "language": "python",
   "name": "python3"
  },
  "language_info": {
   "codemirror_mode": {
    "name": "ipython",
    "version": 3
   },
   "file_extension": ".py",
   "mimetype": "text/x-python",
   "name": "python",
   "nbconvert_exporter": "python",
   "pygments_lexer": "ipython3",
   "version": "3.8.3"
  }
 },
 "nbformat": 4,
 "nbformat_minor": 4
}
