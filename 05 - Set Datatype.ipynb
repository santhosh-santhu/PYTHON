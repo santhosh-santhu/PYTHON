{
 "cells": [
  {
   "cell_type": "markdown",
   "metadata": {},
   "source": [
    "sets\n",
    "sets are written in curly brackets\n",
    "#can store different datatypes\n",
    "#Duplicate values are not allowed\n",
    "#order is retained\n",
    "#indexing and slicing is possible"
   ]
  },
  {
   "cell_type": "code",
   "execution_count": 8,
   "metadata": {},
   "outputs": [
    {
     "data": {
      "text/plain": [
       "{1, 2, 3, 4, 5}"
      ]
     },
     "execution_count": 8,
     "metadata": {},
     "output_type": "execute_result"
    }
   ],
   "source": [
    "#set function\n",
    "set = {1,2,3,4,5}\n",
    "set"
   ]
  },
  {
   "cell_type": "code",
   "execution_count": 12,
   "metadata": {},
   "outputs": [
    {
     "data": {
      "text/plain": [
       "{1, 2, 3, 4, 'True', 'a', 'b', 'c', 'python'}"
      ]
     },
     "execution_count": 12,
     "metadata": {},
     "output_type": "execute_result"
    }
   ],
   "source": [
    "#set can store different datatypes\n",
    "set = {1,2,3,4,\"a\",\"c\",\"b\",\"python\",\"True\"}\n",
    "set"
   ]
  },
  {
   "cell_type": "code",
   "execution_count": 13,
   "metadata": {},
   "outputs": [
    {
     "data": {
      "text/plain": [
       "{1, 2, 3, 4, 5}"
      ]
     },
     "execution_count": 13,
     "metadata": {},
     "output_type": "execute_result"
    }
   ],
   "source": [
    "#adding an element to set\n",
    "set = {1,2,3,4}\n",
    "set.add(5)\n",
    "set"
   ]
  },
  {
   "cell_type": "code",
   "execution_count": 14,
   "metadata": {},
   "outputs": [
    {
     "data": {
      "text/plain": [
       "set()"
      ]
     },
     "execution_count": 14,
     "metadata": {},
     "output_type": "execute_result"
    }
   ],
   "source": [
    "#clear the set\n",
    "set = {1,2,3,4,5}\n",
    "set.clear()\n",
    "set"
   ]
  },
  {
   "cell_type": "code",
   "execution_count": 15,
   "metadata": {},
   "outputs": [
    {
     "data": {
      "text/plain": [
       "4"
      ]
     },
     "execution_count": 15,
     "metadata": {},
     "output_type": "execute_result"
    }
   ],
   "source": [
    "#finding the length of a set\n",
    "set = {1,2,3,4}\n",
    "len(set)"
   ]
  },
  {
   "cell_type": "code",
   "execution_count": 18,
   "metadata": {},
   "outputs": [
    {
     "data": {
      "text/plain": [
       "{'a', 'b', 'c'}"
      ]
     },
     "execution_count": 18,
     "metadata": {},
     "output_type": "execute_result"
    }
   ],
   "source": [
    "#copy of a element in set\n",
    "set = {\"a\",\"b\",\"c\"}\n",
    "set1 = set.copy()\n",
    "set1"
   ]
  },
  {
   "cell_type": "code",
   "execution_count": 55,
   "metadata": {},
   "outputs": [
    {
     "data": {
      "text/plain": [
       "{8, 9}"
      ]
     },
     "execution_count": 55,
     "metadata": {},
     "output_type": "execute_result"
    }
   ],
   "source": [
    "#Task7\n",
    "#set difference method\n",
    "set1 = {1,2,3,4,5,6,8,9}\n",
    "set2 = {1,2,3,4,5,6}\n",
    "set = set1.difference(set2)\n",
    "set"
   ]
  },
  {
   "cell_type": "code",
   "execution_count": 37,
   "metadata": {
    "scrolled": true
   },
   "outputs": [
    {
     "data": {
      "text/plain": [
       "{3, 4, 5, 8, 9}"
      ]
     },
     "execution_count": 37,
     "metadata": {},
     "output_type": "execute_result"
    }
   ],
   "source": [
    "#remove an element form set using pop method\n",
    "set = {1,8,5,1,3,9,4}\n",
    "set.pop()\n",
    "set"
   ]
  },
  {
   "cell_type": "markdown",
   "metadata": {},
   "source": []
  },
  {
   "cell_type": "code",
   "execution_count": 38,
   "metadata": {},
   "outputs": [
    {
     "data": {
      "text/plain": [
       "{1, 2, 3, 4}"
      ]
     },
     "execution_count": 38,
     "metadata": {},
     "output_type": "execute_result"
    }
   ],
   "source": [
    "# add is used to add single iteam\n",
    "set = {1,2,3}\n",
    "set.add(4)\n",
    "set"
   ]
  },
  {
   "cell_type": "code",
   "execution_count": 40,
   "metadata": {},
   "outputs": [
    {
     "data": {
      "text/plain": [
       "{1, 2, 3, 4, 5, 6}"
      ]
     },
     "execution_count": 40,
     "metadata": {},
     "output_type": "execute_result"
    }
   ],
   "source": [
    "#update list method\n",
    "#the elements should be in the form of list\n",
    "set = {1,2,3,4}\n",
    "set.update([5,6])\n",
    "set"
   ]
  },
  {
   "cell_type": "code",
   "execution_count": 45,
   "metadata": {},
   "outputs": [
    {
     "data": {
      "text/plain": [
       "{1, 2, 4, 5}"
      ]
     },
     "execution_count": 45,
     "metadata": {},
     "output_type": "execute_result"
    }
   ],
   "source": [
    "#discard method it removes the particular element\n",
    "set = {1,2,3,4,5}\n",
    "set.discard(3)\n",
    "set"
   ]
  },
  {
   "cell_type": "code",
   "execution_count": 47,
   "metadata": {},
   "outputs": [
    {
     "data": {
      "text/plain": [
       "{1, 2, 3, 4, 5, 6, 7, 8, 9}"
      ]
     },
     "execution_count": 47,
     "metadata": {},
     "output_type": "execute_result"
    }
   ],
   "source": [
    "#using union method in set\n",
    "set1 = {1,2,3,4}\n",
    "set2 = {5,6,7,8,9}\n",
    "set3 = set1.union(set2)\n",
    "set3"
   ]
  },
  {
   "cell_type": "code",
   "execution_count": 52,
   "metadata": {},
   "outputs": [
    {
     "data": {
      "text/plain": [
       "{1, 4}"
      ]
     },
     "execution_count": 52,
     "metadata": {},
     "output_type": "execute_result"
    }
   ],
   "source": [
    "#using the intersection method\n",
    "set1 = {1,2,3,4,5}\n",
    "set2 = {6,7,1,8,9,4}\n",
    "set3 = set1.intersection(set2)\n",
    "set3"
   ]
  },
  {
   "cell_type": "code",
   "execution_count": 54,
   "metadata": {},
   "outputs": [
    {
     "data": {
      "text/plain": [
       "{'CSS', 'c', 'java', 'javascript', 'python'}"
      ]
     },
     "execution_count": 54,
     "metadata": {},
     "output_type": "execute_result"
    }
   ],
   "source": [
    "#Task7\n",
    "\n",
    "#sets by using symmetric difference\n",
    "#it returns the elements which are present in set\n",
    "#but can not return the elements which are not present in both sets\n",
    "lang1 = {\"python\",\"c++\",\"java\",\"HTML\"}\n",
    "lang2 = {\"HTML\",\"CSS\",\"javascript\",\"c++\",\"c\"}\n",
    "lang3 = lang1.symmetric_difference(lang2)\n",
    "lang3"
   ]
  },
  {
   "cell_type": "code",
   "execution_count": null,
   "metadata": {},
   "outputs": [],
   "source": []
  }
 ],
 "metadata": {
  "kernelspec": {
   "display_name": "Python 3",
   "language": "python",
   "name": "python3"
  },
  "language_info": {
   "codemirror_mode": {
    "name": "ipython",
    "version": 3
   },
   "file_extension": ".py",
   "mimetype": "text/x-python",
   "name": "python",
   "nbconvert_exporter": "python",
   "pygments_lexer": "ipython3",
   "version": "3.8.3"
  }
 },
 "nbformat": 4,
 "nbformat_minor": 4
}
