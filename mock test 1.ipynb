{
 "cells": [
  {
   "cell_type": "code",
   "execution_count": 8,
   "metadata": {},
   "outputs": [
    {
     "name": "stdout",
     "output_type": "stream",
     "text": [
      "How many numbers: 5\n",
      "Enter number: 23\n",
      "23\n",
      "Enter number: 12\n",
      "23\n",
      "Enter number: 96\n",
      "96\n",
      "Enter number: 23\n",
      "96\n",
      "Enter number: A\n",
      "Enter a valid number:\n"
     ]
    }
   ],
   "source": [
    "try:\n",
    "    list1 = []\n",
    "    num = int(input('How many numbers: '))\n",
    "    for n in range(num):\n",
    "        numbers = int(input('Enter number: '))\n",
    "        list1.append(numbers)\n",
    "        print(max(list1))\n",
    "except:\n",
    "    print(\"Enter a valid number:\")\n"
   ]
  },
  {
   "cell_type": "markdown",
   "metadata": {},
   "source": [
    " "
   ]
  },
  {
   "cell_type": "code",
   "execution_count": null,
   "metadata": {},
   "outputs": [],
   "source": []
  },
  {
   "cell_type": "code",
   "execution_count": null,
   "metadata": {},
   "outputs": [],
   "source": []
  }
 ],
 "metadata": {
  "kernelspec": {
   "display_name": "Python 3",
   "language": "python",
   "name": "python3"
  },
  "language_info": {
   "codemirror_mode": {
    "name": "ipython",
    "version": 3
   },
   "file_extension": ".py",
   "mimetype": "text/x-python",
   "name": "python",
   "nbconvert_exporter": "python",
   "pygments_lexer": "ipython3",
   "version": "3.8.3"
  }
 },
 "nbformat": 4,
 "nbformat_minor": 4
}
